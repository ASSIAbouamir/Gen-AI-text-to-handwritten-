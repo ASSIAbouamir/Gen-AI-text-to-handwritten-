{
 "cells": [
  {
   "cell_type": "markdown",
   "id": "15c52a3a",
   "metadata": {},
   "source": [
    "# 🖋️ Projet Text to Handwriting – Notebook complet\n",
    "Ce notebook prépare les données IAM et entraîne un modèle simple Text → Handwriting avec PyTorch."
   ]
  },
  {
   "cell_type": "markdown",
   "id": "20bc61be",
   "metadata": {},
   "source": [
    "## 📂 1. Importation des bibliothèques et vérification des dossiers"
   ]
  },
  {
   "cell_type": "code",
   "execution_count": null,
   "id": "5685e9db",
   "metadata": {},
   "outputs": [],
   "source": [
    "import os\n",
    "import pandas as pd\n",
    "import numpy as np\n",
    "from PIL import Image\n",
    "from sklearn.model_selection import train_test_split\n",
    "import torch\n",
    "from torch.utils.data import Dataset, DataLoader\n",
    "from torchvision import transforms\n",
    "import torch.nn as nn\n",
    "import torch.optim as optim\n",
    "\n",
    "# Chemins dataset IAM\n",
    "data_dir = \"IAM_dataset\"\n",
    "lines_file = os.path.join(data_dir, \"ascii\", \"lines.txt\")\n",
    "lines_img_dir = os.path.join(data_dir, \"lines\")\n",
    "\n",
    "# Vérification\n",
    "assert os.path.exists(data_dir), \"Le dossier IAM_dataset est introuvable\"\n",
    "assert os.path.exists(lines_file), \"Le fichier lines.txt est introuvable\"\n",
    "assert os.path.exists(lines_img_dir), \"Le dossier lines est introuvable\"\n",
    "print(\"✅ IAM dataset prêt\")"
   ]
  },
  {
   "cell_type": "markdown",
   "id": "5da73759",
   "metadata": {},
   "source": [
    "## 🧾 2. Lecture et parsing du fichier lines.txt"
   ]
  },
  {
   "cell_type": "code",
   "execution_count": null,
   "id": "72866c8f",
   "metadata": {},
   "outputs": [],
   "source": [
    "# Lecture et parsing\n",
    "lines_data = []\n",
    "with open(lines_file, 'r', encoding='utf-8') as f:\n",
    "    for i, line in enumerate(f):\n",
    "        if line.startswith('#') or not line.strip():\n",
    "            continue\n",
    "        parts = line.strip().split()\n",
    "        if len(parts) >= 9:\n",
    "            img_id, status = parts[0], parts[1]\n",
    "            if status == 'ok':\n",
    "                text = ' '.join(parts[8:]).replace('|', ' ')\n",
    "                img_base = img_id.split('-')[0]\n",
    "                sub_dir = '-'.join(img_id.split('-')[:2])\n",
    "                img_name = f\"{img_id}.png\"\n",
    "                img_path = os.path.join(lines_img_dir, img_base, sub_dir, img_name)\n",
    "                if os.path.exists(img_path):\n",
    "                    lines_data.append((img_path, text))\n",
    "\n",
    "df_lines = pd.DataFrame(lines_data, columns=['image_path','text'])\n",
    "print(f\"Nombre de lignes valides : {len(df_lines)}\")\n",
    "print(df_lines.head())"
   ]
  },
  {
   "cell_type": "markdown",
   "id": "441619cd",
   "metadata": {},
   "source": [
    "## 🧹 3. Nettoyage et split train/test"
   ]
  },
  {
   "cell_type": "code",
   "execution_count": null,
   "id": "89289a2a",
   "metadata": {},
   "outputs": [],
   "source": [
    "# Nettoyage\n",
    "df_lines = df_lines[df_lines['text'].str.strip() != '']\n",
    "df_lines = df_lines[df_lines['text'].str.len() < 100]\n",
    "\n",
    "# Split train/test\n",
    "train_df, test_df = train_test_split(df_lines, test_size=0.1, random_state=42)\n",
    "print(f\"Train: {len(train_df)}, Test: {len(test_df)}\")"
   ]
  },
  {
   "cell_type": "markdown",
   "id": "d65cfa78",
   "metadata": {},
   "source": [
    "## 🔄 4. Transformations et Dataset PyTorch"
   ]
  },
  {
   "cell_type": "code",
   "execution_count": null,
   "id": "5b4e23ef",
   "metadata": {},
   "outputs": [],
   "source": [
    "# Transformations\n",
    "transform = transforms.Compose([\n",
    "    transforms.Grayscale(num_output_channels=1),\n",
    "    transforms.Resize((32,128)),\n",
    "    transforms.ToTensor(),\n",
    "    transforms.Normalize((0.5,), (0.5,))\n",
    "])\n",
    "\n",
    "# Dataset personnalisé\n",
    "class HandwritingGenDataset(Dataset):\n",
    "    def __init__(self, dataframe, char2idx, transform=None, max_len=100):\n",
    "        self.dataframe = dataframe\n",
    "        self.char2idx = char2idx\n",
    "        self.transform = transform\n",
    "        self.max_len = max_len\n",
    "\n",
    "    def __len__(self):\n",
    "        return len(self.dataframe)\n",
    "\n",
    "    def __getitem__(self, idx):\n",
    "        img_path = self.dataframe.iloc[idx]['image_path']\n",
    "        text = self.dataframe.iloc[idx]['text']\n",
    "\n",
    "        # Texte en indices\n",
    "        seq = [self.char2idx[c] for c in text if c in self.char2idx]\n",
    "        if len(seq) < self.max_len:\n",
    "            seq += [0]*(self.max_len - len(seq))\n",
    "        else:\n",
    "            seq = seq[:self.max_len]\n",
    "        seq = torch.tensor(seq, dtype=torch.long)\n",
    "\n",
    "        # Image\n",
    "        image = Image.open(img_path).convert('L')\n",
    "        if self.transform:\n",
    "            image = self.transform(image)\n",
    "        return seq, image\n",
    "\n",
    "# Vocabulaire\n",
    "all_text = ''.join(df_lines['text'].values)\n",
    "vocab = sorted(list(set(all_text)))\n",
    "vocab_size = len(vocab)\n",
    "char2idx = {c:i for i,c in enumerate(vocab)}\n",
    "idx2char = {i:c for i,c in enumerate(vocab)}\n",
    "print(f\"Vocab size: {vocab_size}\")"
   ]
  },
  {
   "cell_type": "markdown",
   "id": "c0ef9f1c",
   "metadata": {},
   "source": [
    "## 📦 5. Créer DataLoaders"
   ]
  },
  {
   "cell_type": "code",
   "execution_count": null,
   "id": "9ab77cd0",
   "metadata": {},
   "outputs": [],
   "source": [
    "max_len = 100\n",
    "train_dataset = HandwritingGenDataset(train_df, char2idx, transform=transform, max_len=max_len)\n",
    "test_dataset  = HandwritingGenDataset(test_df, char2idx, transform=transform, max_len=max_len)\n",
    "\n",
    "train_loader = DataLoader(train_dataset, batch_size=32, shuffle=True)\n",
    "test_loader  = DataLoader(test_dataset, batch_size=32, shuffle=False)\n",
    "\n",
    "# Vérification\n",
    "for seqs, imgs in train_loader:\n",
    "    print(f\"Batch seqs shape: {seqs.shape}\")\n",
    "    print(f\"Batch images shape: {imgs.shape}\")\n",
    "    break"
   ]
  },
  {
   "cell_type": "markdown",
   "id": "f017c6b7",
   "metadata": {},
   "source": [
    "## 🏗️ 6. Définir le modèle Text → Handwriting simple"
   ]
  },
  {
   "cell_type": "code",
   "execution_count": null,
   "id": "274e25c7",
   "metadata": {},
   "outputs": [],
   "source": [
    "class TextToHandwriting(nn.Module):\n",
    "    def __init__(self, vocab_size, embed_dim=64, hidden_dim=128, img_channels=1):\n",
    "        super().__init__()\n",
    "        self.embedding = nn.Embedding(vocab_size, embed_dim)\n",
    "        self.lstm = nn.LSTM(embed_dim, hidden_dim, batch_first=True)\n",
    "        self.fc = nn.Linear(hidden_dim, 32*128)\n",
    "        self.conv = nn.Sequential(\n",
    "            nn.Conv2d(1,64,3,padding=1),\n",
    "            nn.ReLU(),\n",
    "            nn.Conv2d(64,img_channels,3,padding=1),\n",
    "            nn.Tanh()\n",
    "        )\n",
    "\n",
    "    def forward(self, x):\n",
    "        x = self.embedding(x)\n",
    "        _, (h, _) = self.lstm(x)\n",
    "        h = h.squeeze(0)\n",
    "        h = self.fc(h)\n",
    "        h = h.view(-1,1,32,128)\n",
    "        img = self.conv(h)\n",
    "        return img\n",
    "\n",
    "# Initialiser le modèle\n",
    "device = 'cuda' if torch.cuda.is_available() else 'cpu'\n",
    "model = TextToHandwriting(vocab_size).to(device)\n",
    "criterion = nn.MSELoss()\n",
    "optimizer = optim.Adam(model.parameters(), lr=1e-3)"
   ]
  },
  {
   "cell_type": "markdown",
   "id": "978205c8",
   "metadata": {},
   "source": [
    "## 🔥 7. Boucle d'entraînement simplifiée (1 epoch test)"
   ]
  },
  {
   "cell_type": "code",
   "execution_count": null,
   "id": "7329ac7a",
   "metadata": {},
   "outputs": [],
   "source": [
    "for seqs, imgs in train_loader:\n",
    "    seqs, imgs = seqs.to(device), imgs.to(device)\n",
    "    optimizer.zero_grad()\n",
    "    outputs = model(seqs)\n",
    "    loss = criterion(outputs, imgs)\n",
    "    loss.backward()\n",
    "    optimizer.step()\n",
    "    print(f\"Loss: {loss.item():.4f}\")\n",
    "    break  # tester 1 batch seulement"
   ]
  },
  {
   "cell_type": "markdown",
   "id": "a12e4e6f",
   "metadata": {},
   "source": [
    "✅ Ce notebook contient toutes les étapes :\n",
    "1. Préparation des données IAM\n",
    "2. Parsing et DataFrame\n",
    "3. Split train/test\n",
    "4. Dataset PyTorch + transformations\n",
    "5. DataLoaders\n",
    "6. Modèle Text → Handwriting\n",
    "7. Boucle d'entraînement"
   ]
  }
 ],
 "metadata": {
  "kernelspec": {
   "display_name": "Python 3",
   "name": "python3"
  },
  "language_info": {
   "codemirror_mode": {
    "name": "ipython",
    "version": 3
   },
   "file_extension": ".py",
   "mimetype": "text/x-python",
   "name": "python",
   "nbconvert_exporter": "python",
   "pygments_lexer": "ipython3",
   "version": "3.11.0"
  }
 },
 "nbformat": 4,
 "nbformat_minor": 5
}
