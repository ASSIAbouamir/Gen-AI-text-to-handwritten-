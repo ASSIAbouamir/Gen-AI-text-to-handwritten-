{
 "cells": [
  {
   "cell_type": "markdown",
   "id": "15c52a3a",
   "metadata": {},
   "source": [
    "# 🖋️ Projet Text to Handwriting – Notebook complet\n",
    "Ce notebook prépare les données IAM et entraîne un modèle simple Text → Handwriting avec PyTorch."
   ]
  },
  {
   "cell_type": "markdown",
   "id": "20bc61be",
   "metadata": {},
   "source": [
    "## 📂 1. Importation des bibliothèques et vérification des dossiers"
   ]
  },
  {
   "cell_type": "code",
   "execution_count": 26,
   "id": "ac2d1d65",
   "metadata": {},
   "outputs": [
    {
     "name": "stdout",
     "output_type": "stream",
     "text": [
      "Defaulting to user installation because normal site-packages is not writeable\n",
      "Requirement already satisfied: pandas in c:\\users\\user1\\appdata\\roaming\\python\\python313\\site-packages (2.3.2)\n",
      "Requirement already satisfied: numpy>=1.26.0 in c:\\users\\user1\\appdata\\roaming\\python\\python313\\site-packages (from pandas) (2.2.6)\n",
      "Requirement already satisfied: python-dateutil>=2.8.2 in c:\\users\\user1\\appdata\\roaming\\python\\python313\\site-packages (from pandas) (2.9.0.post0)\n",
      "Requirement already satisfied: pytz>=2020.1 in c:\\users\\user1\\appdata\\roaming\\python\\python313\\site-packages (from pandas) (2025.2)\n",
      "Requirement already satisfied: tzdata>=2022.7 in c:\\users\\user1\\appdata\\roaming\\python\\python313\\site-packages (from pandas) (2025.2)\n",
      "Requirement already satisfied: six>=1.5 in c:\\users\\user1\\appdata\\roaming\\python\\python313\\site-packages (from python-dateutil>=2.8.2->pandas) (1.17.0)\n"
     ]
    }
   ],
   "source": [
    "!pip install pandas"
   ]
  },
  {
   "cell_type": "code",
   "execution_count": 27,
   "id": "5685e9db",
   "metadata": {},
   "outputs": [
    {
     "name": "stdout",
     "output_type": "stream",
     "text": [
      "✅ IAM dataset prêt\n"
     ]
    }
   ],
   "source": [
    "import os\n",
    "import pandas as pd\n",
    "import numpy as np\n",
    "from PIL import Image\n",
    "from sklearn.model_selection import train_test_split\n",
    "import torch\n",
    "from torch.utils.data import Dataset, DataLoader\n",
    "from torchvision import transforms\n",
    "import torch.nn as nn\n",
    "import torch.optim as optim\n",
    "\n",
    "# Chemins dataset IAM\n",
    "data_dir = \"IAM_dataset\"\n",
    "lines_file = os.path.join(data_dir, \"ascii\", \"lines.txt\")\n",
    "lines_img_dir = os.path.join(data_dir, \"lines\")\n",
    "\n",
    "# Vérification\n",
    "assert os.path.exists(data_dir), \"Le dossier IAM_dataset est introuvable\"\n",
    "assert os.path.exists(lines_file), \"Le fichier lines.txt est introuvable\"\n",
    "assert os.path.exists(lines_img_dir), \"Le dossier lines est introuvable\"\n",
    "print(\"✅ IAM dataset prêt\")"
   ]
  },
  {
   "cell_type": "markdown",
   "id": "5da73759",
   "metadata": {},
   "source": [
    "## 🧾 2. Lecture et parsing du fichier lines.txt"
   ]
  },
  {
   "cell_type": "code",
   "execution_count": 28,
   "id": "72866c8f",
   "metadata": {},
   "outputs": [
    {
     "name": "stdout",
     "output_type": "stream",
     "text": [
      "Nombre de lignes valides : 11344\n",
      "                                       image_path  \\\n",
      "0  IAM_dataset\\lines\\a01\\a01-000u\\a01-000u-00.png   \n",
      "1  IAM_dataset\\lines\\a01\\a01-000u\\a01-000u-01.png   \n",
      "2  IAM_dataset\\lines\\a01\\a01-000u\\a01-000u-02.png   \n",
      "3  IAM_dataset\\lines\\a01\\a01-000u\\a01-000u-04.png   \n",
      "4  IAM_dataset\\lines\\a01\\a01-000u\\a01-000u-06.png   \n",
      "\n",
      "                                        text  \n",
      "0          A MOVE to stop Mr. Gaitskell from  \n",
      "1      nominating any more Labour life Peers  \n",
      "2       is to be made at a meeting of Labour  \n",
      "3       put down a resolution on the subject  \n",
      "4  Griffiths , M P for Manchester Exchange .  \n"
     ]
    }
   ],
   "source": [
    "# Lecture et parsing\n",
    "lines_data = []\n",
    "with open(lines_file, 'r', encoding='utf-8') as f:\n",
    "    for i, line in enumerate(f):\n",
    "        if line.startswith('#') or not line.strip():\n",
    "            continue\n",
    "        parts = line.strip().split()\n",
    "        if len(parts) >= 9:\n",
    "            img_id, status = parts[0], parts[1]\n",
    "            if status == 'ok':\n",
    "                text = ' '.join(parts[8:]).replace('|', ' ')\n",
    "                img_base = img_id.split('-')[0]\n",
    "                sub_dir = '-'.join(img_id.split('-')[:2])\n",
    "                img_name = f\"{img_id}.png\"\n",
    "                img_path = os.path.join(lines_img_dir, img_base, sub_dir, img_name)\n",
    "                if os.path.exists(img_path):\n",
    "                    lines_data.append((img_path, text))\n",
    "\n",
    "df_lines = pd.DataFrame(lines_data, columns=['image_path','text'])\n",
    "print(f\"Nombre de lignes valides : {len(df_lines)}\")\n",
    "print(df_lines.head())"
   ]
  },
  {
   "cell_type": "markdown",
   "id": "441619cd",
   "metadata": {},
   "source": [
    "## 🧹 3. Nettoyage et split train/test"
   ]
  },
  {
   "cell_type": "code",
   "execution_count": 29,
   "id": "89289a2a",
   "metadata": {},
   "outputs": [
    {
     "name": "stdout",
     "output_type": "stream",
     "text": [
      "Train: 10209, Test: 1135\n"
     ]
    }
   ],
   "source": [
    "# Nettoyage\n",
    "df_lines = df_lines[df_lines['text'].str.strip() != '']\n",
    "df_lines = df_lines[df_lines['text'].str.len() < 100]\n",
    "\n",
    "# Split train/test\n",
    "train_df, test_df = train_test_split(df_lines, test_size=0.1, random_state=42)\n",
    "print(f\"Train: {len(train_df)}, Test: {len(test_df)}\")"
   ]
  },
  {
   "cell_type": "markdown",
   "id": "d65cfa78",
   "metadata": {},
   "source": [
    "## 🔄 4. Transformations et Dataset PyTorch"
   ]
  },
  {
   "cell_type": "markdown",
   "id": "393680d4",
   "metadata": {},
   "source": []
  },
  {
   "cell_type": "markdown",
   "id": "cfe838c9",
   "metadata": {},
   "source": []
  },
  {
   "cell_type": "code",
   "execution_count": 30,
   "id": "5b4e23ef",
   "metadata": {},
   "outputs": [
    {
     "name": "stdout",
     "output_type": "stream",
     "text": [
      "Vocab size: 79\n"
     ]
    }
   ],
   "source": [
    "# Transformations\n",
    "transform = transforms.Compose([\n",
    "    transforms.Grayscale(num_output_channels=1),\n",
    "    transforms.Resize((32,128)),\n",
    "    transforms.ToTensor(),\n",
    "    transforms.Normalize((0.5,), (0.5,))\n",
    "])\n",
    "\n",
    "# Dataset personnalisé\n",
    "class HandwritingGenDataset(Dataset):\n",
    "    def __init__(self, dataframe, char2idx, transform=None, max_len=100):\n",
    "        self.dataframe = dataframe\n",
    "        self.char2idx = char2idx\n",
    "        self.transform = transform\n",
    "        self.max_len = max_len\n",
    "\n",
    "    def __len__(self):\n",
    "        return len(self.dataframe)\n",
    "\n",
    "    def __getitem__(self, idx):\n",
    "        img_path = self.dataframe.iloc[idx]['image_path']\n",
    "        text = self.dataframe.iloc[idx]['text']\n",
    "\n",
    "        # Texte en indices\n",
    "        seq = [self.char2idx[c] for c in text if c in self.char2idx]\n",
    "        if len(seq) < self.max_len:\n",
    "            seq += [0]*(self.max_len - len(seq))\n",
    "        else:\n",
    "            seq = seq[:self.max_len]\n",
    "        seq = torch.tensor(seq, dtype=torch.long)\n",
    "\n",
    "        # Image\n",
    "        image = Image.open(img_path).convert('L')\n",
    "        if self.transform:\n",
    "            image = self.transform(image)\n",
    "        return seq, image\n",
    "\n",
    "# Vocabulaire\n",
    "all_text = ''.join(df_lines['text'].values)\n",
    "vocab = sorted(list(set(all_text)))\n",
    "vocab_size = len(vocab)\n",
    "char2idx = {c:i for i,c in enumerate(vocab)}\n",
    "idx2char = {i:c for i,c in enumerate(vocab)}\n",
    "print(f\"Vocab size: {vocab_size}\")"
   ]
  },
  {
   "cell_type": "markdown",
   "id": "c0ef9f1c",
   "metadata": {},
   "source": [
    "## 📦 5. Créer DataLoaders"
   ]
  },
  {
   "cell_type": "code",
   "execution_count": 31,
   "id": "9ab77cd0",
   "metadata": {},
   "outputs": [
    {
     "name": "stdout",
     "output_type": "stream",
     "text": [
      "Batch seqs shape: torch.Size([32, 100])\n",
      "Batch images shape: torch.Size([32, 1, 32, 128])\n"
     ]
    }
   ],
   "source": [
    "max_len = 100\n",
    "train_dataset = HandwritingGenDataset(train_df, char2idx, transform=transform, max_len=max_len)\n",
    "test_dataset  = HandwritingGenDataset(test_df, char2idx, transform=transform, max_len=max_len)\n",
    "\n",
    "train_loader = DataLoader(train_dataset, batch_size=32, shuffle=True)\n",
    "test_loader  = DataLoader(test_dataset, batch_size=32, shuffle=False)\n",
    "\n",
    "# Vérification\n",
    "for seqs, imgs in train_loader:\n",
    "    print(f\"Batch seqs shape: {seqs.shape}\")\n",
    "    print(f\"Batch images shape: {imgs.shape}\")\n",
    "    break"
   ]
  },
  {
   "cell_type": "markdown",
   "id": "f017c6b7",
   "metadata": {},
   "source": [
    "## 🏗️ 6. Définir le modèle Text → Handwriting simple"
   ]
  },
  {
   "cell_type": "code",
   "execution_count": 32,
   "id": "274e25c7",
   "metadata": {},
   "outputs": [],
   "source": [
    "class TextToHandwriting(nn.Module):\n",
    "    def __init__(self, vocab_size, embed_dim=64, hidden_dim=128, img_channels=1):\n",
    "        super().__init__()\n",
    "        self.embedding = nn.Embedding(vocab_size, embed_dim)\n",
    "        self.lstm = nn.LSTM(embed_dim, hidden_dim, batch_first=True)\n",
    "        self.fc = nn.Linear(hidden_dim, 32*128)\n",
    "        self.conv = nn.Sequential(\n",
    "            nn.Conv2d(1,64,3,padding=1),\n",
    "            nn.ReLU(),\n",
    "            nn.Conv2d(64,img_channels,3,padding=1),\n",
    "            nn.Tanh()\n",
    "        )\n",
    "\n",
    "    def forward(self, x):\n",
    "        x = self.embedding(x)\n",
    "        _, (h, _) = self.lstm(x)\n",
    "        h = h.squeeze(0)\n",
    "        h = self.fc(h)\n",
    "        h = h.view(-1,1,32,128)\n",
    "        img = self.conv(h)\n",
    "        return img\n",
    "\n",
    "# Initialiser le modèle\n",
    "device = 'cuda' if torch.cuda.is_available() else 'cpu'\n",
    "model = TextToHandwriting(vocab_size).to(device)\n",
    "criterion = nn.MSELoss()\n",
    "optimizer = optim.Adam(model.parameters(), lr=1e-3)"
   ]
  },
  {
   "cell_type": "markdown",
   "id": "978205c8",
   "metadata": {},
   "source": [
    "## 🔥 7. Boucle d'entraînement simplifiée (1 epoch test)"
   ]
  },
  {
   "cell_type": "code",
   "execution_count": 33,
   "id": "7329ac7a",
   "metadata": {},
   "outputs": [
    {
     "name": "stdout",
     "output_type": "stream",
     "text": [
      "Loss: 0.7090\n"
     ]
    }
   ],
   "source": [
    "for seqs, imgs in train_loader:\n",
    "    seqs, imgs = seqs.to(device), imgs.to(device)\n",
    "    optimizer.zero_grad()\n",
    "    outputs = model(seqs)\n",
    "    loss = criterion(outputs, imgs)\n",
    "    loss.backward()\n",
    "    optimizer.step()\n",
    "    print(f\"Loss: {loss.item():.4f}\")\n",
    "    break  # tester 1 batch seulement"
   ]
  },
  {
   "cell_type": "code",
   "execution_count": 34,
   "id": "7be1de67",
   "metadata": {},
   "outputs": [
    {
     "name": "stdout",
     "output_type": "stream",
     "text": [
      "Epoch 1/50 - Loss: 0.0646\n",
      "Epoch 2/50 - Loss: 0.0551\n",
      "Epoch 3/50 - Loss: 0.0549\n",
      "Epoch 4/50 - Loss: 0.0549\n",
      "Epoch 5/50 - Loss: 0.0548\n",
      "Epoch 6/50 - Loss: 0.0555\n",
      "Epoch 7/50 - Loss: 0.0550\n",
      "Epoch 8/50 - Loss: 0.0549\n",
      "Epoch 9/50 - Loss: 0.0548\n",
      "Epoch 10/50 - Loss: 0.0554\n",
      "Epoch 11/50 - Loss: 0.0548\n",
      "Epoch 12/50 - Loss: 0.0548\n",
      "Epoch 13/50 - Loss: 0.0550\n",
      "Epoch 14/50 - Loss: 0.0548\n",
      "Epoch 15/50 - Loss: 0.0550\n",
      "Epoch 16/50 - Loss: 0.0549\n",
      "Epoch 17/50 - Loss: 0.0549\n",
      "Epoch 18/50 - Loss: 0.0548\n",
      "Epoch 19/50 - Loss: 0.0549\n",
      "Epoch 20/50 - Loss: 0.0548\n",
      "Epoch 21/50 - Loss: 0.0548\n",
      "Epoch 22/50 - Loss: 0.0548\n",
      "Epoch 23/50 - Loss: 0.0548\n",
      "Epoch 24/50 - Loss: 0.0558\n",
      "Epoch 25/50 - Loss: 0.0549\n",
      "Epoch 26/50 - Loss: 0.0548\n",
      "Epoch 27/50 - Loss: 0.0548\n",
      "Epoch 28/50 - Loss: 0.0554\n",
      "Epoch 29/50 - Loss: 0.0549\n",
      "Epoch 30/50 - Loss: 0.0548\n",
      "Epoch 31/50 - Loss: 0.0548\n",
      "Epoch 32/50 - Loss: 0.0548\n",
      "Epoch 33/50 - Loss: 0.0551\n",
      "Epoch 34/50 - Loss: 0.0549\n",
      "Epoch 35/50 - Loss: 0.0548\n",
      "Epoch 36/50 - Loss: 0.0548\n",
      "Epoch 37/50 - Loss: 0.0548\n",
      "Epoch 38/50 - Loss: 0.0548\n",
      "Epoch 39/50 - Loss: 0.0550\n",
      "Epoch 40/50 - Loss: 0.0548\n",
      "Epoch 41/50 - Loss: 0.0548\n",
      "Epoch 42/50 - Loss: 0.0547\n",
      "Epoch 43/50 - Loss: 0.0548\n",
      "Epoch 44/50 - Loss: 0.0548\n",
      "Epoch 45/50 - Loss: 0.0548\n",
      "Epoch 46/50 - Loss: 0.0549\n",
      "Epoch 47/50 - Loss: 0.0549\n",
      "Epoch 48/50 - Loss: 0.0548\n",
      "Epoch 49/50 - Loss: 0.0549\n",
      "Epoch 50/50 - Loss: 0.0548\n"
     ]
    }
   ],
   "source": [
    "num_epochs = 50\n",
    "\n",
    "for epoch in range(num_epochs):\n",
    "    running_loss = 0\n",
    "    for seqs, imgs in train_loader:\n",
    "        seqs, imgs = seqs.to(device), imgs.to(device)\n",
    "        optimizer.zero_grad()\n",
    "        outputs = model(seqs)\n",
    "        loss = criterion(outputs, imgs)\n",
    "        loss.backward()\n",
    "        optimizer.step()\n",
    "        running_loss += loss.item()\n",
    "    print(f\"Epoch {epoch+1}/{num_epochs} - Loss: {running_loss/len(train_loader):.4f}\")\n"
   ]
  },
  {
   "cell_type": "code",
   "execution_count": 35,
   "id": "6be638e2",
   "metadata": {},
   "outputs": [
    {
     "name": "stdout",
     "output_type": "stream",
     "text": [
      "✅ Modèle sauvegardé\n"
     ]
    }
   ],
   "source": [
    "torch.save(model.state_dict(), \"text_to_handwriting.pth\")\n",
    "print(\"✅ Modèle sauvegardé\")\n"
   ]
  },
  {
   "cell_type": "code",
   "execution_count": 36,
   "id": "c5881c67",
   "metadata": {},
   "outputs": [
    {
     "data": {
      "text/plain": [
       "TextToHandwriting(\n",
       "  (embedding): Embedding(79, 64)\n",
       "  (lstm): LSTM(64, 128, batch_first=True)\n",
       "  (fc): Linear(in_features=128, out_features=4096, bias=True)\n",
       "  (conv): Sequential(\n",
       "    (0): Conv2d(1, 64, kernel_size=(3, 3), stride=(1, 1), padding=(1, 1))\n",
       "    (1): ReLU()\n",
       "    (2): Conv2d(64, 1, kernel_size=(3, 3), stride=(1, 1), padding=(1, 1))\n",
       "    (3): Tanh()\n",
       "  )\n",
       ")"
      ]
     },
     "execution_count": 36,
     "metadata": {},
     "output_type": "execute_result"
    }
   ],
   "source": [
    "model.load_state_dict(torch.load(\"text_to_handwriting.pth\"))\n",
    "model.eval()\n"
   ]
  },
  {
   "cell_type": "code",
   "execution_count": 37,
   "id": "d31fa192",
   "metadata": {},
   "outputs": [
    {
     "data": {
      "image/png": "[encoded data removed]",
      "text/plain": [
       "<Figure size 640x480 with 1 Axes>"
      ]
     },
     "metadata": {},
     "output_type": "display_data"
    }
   ],
   "source": [
    "import matplotlib.pyplot as plt\n",
    "\n",
    "test_text = \"Hello world\"\n",
    "seq = [char2idx[c] for c in test_text if c in char2idx]\n",
    "seq += [0]*(max_len - len(seq))  # padding\n",
    "seq = torch.tensor([seq], dtype=torch.long).to(device)\n",
    "\n",
    "with torch.no_grad():\n",
    "    pred_img = model(seq).cpu().squeeze().numpy()\n",
    "    pred_img = (pred_img + 1)/2  # re-normaliser [0,1] pour matplotlib\n",
    "    plt.imshow(pred_img, cmap='gray')\n",
    "    plt.axis('off')\n",
    "    plt.show()\n"
   ]
  },
  {
   "cell_type": "code",
   "execution_count": 38,
   "id": "dbd698cb",
   "metadata": {},
   "outputs": [],
   "source": [
    "import torch\n",
    "import torch.nn as nn\n",
    "import torch.optim as optim\n",
    "\n",
    "# ===========================\n",
    "# 🧠 Nouveau Modèle Text → Handwriting (v2)\n",
    "# ===========================\n",
    "\n",
    "class TextToHandwritingV2(nn.Module):\n",
    "    def __init__(self, vocab_size, embed_dim=128, hidden_dim=256):\n",
    "        super().__init__()\n",
    "        \n",
    "        # 1️⃣ Embedding + encodeur séquentiel\n",
    "        self.embedding = nn.Embedding(vocab_size, embed_dim)\n",
    "        self.lstm = nn.LSTM(embed_dim, hidden_dim, batch_first=True)\n",
    "        \n",
    "        # 2️⃣ Décodeur (projection + générateur)\n",
    "        self.fc = nn.Linear(hidden_dim, 128 * 8 * 32)\n",
    "        \n",
    "        self.deconv = nn.Sequential(\n",
    "            nn.ConvTranspose2d(128, 64, 4, stride=2, padding=1),  # 16×64\n",
    "            nn.BatchNorm2d(64),\n",
    "            nn.ReLU(inplace=True),\n",
    "\n",
    "            nn.ConvTranspose2d(64, 32, 4, stride=2, padding=1),   # 32×128\n",
    "            nn.BatchNorm2d(32),\n",
    "            nn.ReLU(inplace=True),\n",
    "\n",
    "            nn.Conv2d(32, 1, 3, padding=1),\n",
    "            nn.Tanh()\n",
    "        )\n",
    "\n",
    "    def forward(self, x):\n",
    "        x = self.embedding(x)\n",
    "        _, (h, _) = self.lstm(x)\n",
    "        h = h.squeeze(0)\n",
    "        h = self.fc(h)\n",
    "        h = h.view(-1, 128, 8, 32)\n",
    "        out = self.deconv(h)\n",
    "        return out\n"
   ]
  },
  {
   "cell_type": "code",
   "execution_count": 39,
   "id": "a172525a",
   "metadata": {},
   "outputs": [
    {
     "name": "stdout",
     "output_type": "stream",
     "text": [
      "Epoch 1/10 - Loss: 0.2325\n",
      "Epoch 2/10 - Loss: 0.1339\n",
      "Epoch 3/10 - Loss: 0.1306\n",
      "Epoch 4/10 - Loss: 0.1300\n",
      "Epoch 5/10 - Loss: 0.1291\n",
      "Epoch 6/10 - Loss: 0.1288\n",
      "Epoch 7/10 - Loss: 0.1287\n",
      "Epoch 8/10 - Loss: 0.1286\n",
      "Epoch 9/10 - Loss: 0.1286\n",
      "Epoch 10/10 - Loss: 0.1286\n"
     ]
    }
   ],
   "source": [
    "# Initialisation\n",
    "device = \"cuda\" if torch.cuda.is_available() else \"cpu\"\n",
    "model = TextToHandwritingV2(vocab_size).to(device)\n",
    "\n",
    "# Fonction de perte : L1 (plus stable pour génération d'images)\n",
    "criterion = nn.L1Loss()\n",
    "optimizer = optim.Adam(model.parameters(), lr=1e-4)\n",
    "\n",
    "# ===========================\n",
    "# 🔥 Entraînement simplifié (test)\n",
    "# ===========================\n",
    "num_epochs = 10  # tu peux augmenter à 50\n",
    "for epoch in range(num_epochs):\n",
    "    model.train()\n",
    "    total_loss = 0\n",
    "    for seqs, imgs in train_loader:\n",
    "        seqs, imgs = seqs.to(device), imgs.to(device)\n",
    "        optimizer.zero_grad()\n",
    "        outputs = model(seqs)\n",
    "        loss = criterion(outputs, imgs)\n",
    "        loss.backward()\n",
    "        optimizer.step()\n",
    "        total_loss += loss.item()\n",
    "    print(f\"Epoch {epoch+1}/{num_epochs} - Loss: {total_loss/len(train_loader):.4f}\")\n",
    "\n",
    "# Sauvegarde du modèle\n",
    "torch.save(model.state_dict(), \"text2handwriting_v2.pth\")\n"
   ]
  },
  {
   "cell_type": "code",
   "execution_count": 40,
   "id": "100b36d9",
   "metadata": {},
   "outputs": [],
   "source": [
    "import matplotlib.pyplot as plt\n",
    "\n",
    "def generate_handwriting_v2(text, model, char2idx, device='cpu', max_len=100):\n",
    "    model.eval()\n",
    "    seq = [char2idx[c] for c in text if c in char2idx]\n",
    "    if len(seq) < max_len:\n",
    "        seq += [0]*(max_len - len(seq))\n",
    "    else:\n",
    "        seq = seq[:max_len]\n",
    "    seq = torch.tensor([seq], dtype=torch.long).to(device)\n",
    "\n",
    "    with torch.no_grad():\n",
    "        pred = model(seq).cpu().squeeze().numpy()\n",
    "    pred = (pred + 1) / 2  # re-normalisation [0,1]\n",
    "    plt.imshow(pred, cmap='gray')\n",
    "    plt.axis('off')\n",
    "    plt.title(f'\"{text}\"')\n",
    "    plt.show()\n"
   ]
  },
  {
   "cell_type": "code",
   "execution_count": 41,
   "id": "b2468f51",
   "metadata": {},
   "outputs": [
    {
     "data": {
      "image/png": "[encoded data removed]",
      "text/plain": [
       "<Figure size 640x480 with 1 Axes>"
      ]
     },
     "metadata": {},
     "output_type": "display_data"
    }
   ],
   "source": [
    "generate_handwriting_v2(\"Hello world\", model, char2idx, device=device)\n"
   ]
  },
  {
   "cell_type": "markdown",
   "id": "a12e4e6f",
   "metadata": {},
   "source": [
    "model.load_state_dict(torch.load(\"text_to_handwriting.pth\"))\n",
    "model.eval()\n",
    "✅ Ce notebook contient toutes les étapes :\n",
    "1. Préparation des données IAM\n",
    "2. Parsing et DataFrame\n",
    "3. Split train/test\n",
    "4. Dataset PyTorch + transformations\n",
    "5. DataLoaders\n",
    "6. Modèle Text → Handwriting\n",
    "7. Boucle d'entraînement"
   ]
  }
 ],
 "metadata": {
  "kernelspec": {
   "display_name": "Python 3",
   "name": "python3"
  },
  "language_info": {
   "codemirror_mode": {
    "name": "ipython",
    "version": 3
   },
   "file_extension": ".py",
   "mimetype": "text/x-python",
   "name": "python",
   "nbconvert_exporter": "python",
   "pygments_lexer": "ipython3",
   "version": "3.13.8"
  }
 },
 "nbformat": 4,
 "nbformat_minor": 5
}
