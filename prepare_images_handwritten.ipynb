{
    "cells": [
        {
            "cell_type": "markdown",
            "metadata": {},
            "source": [
                "#  Projet Text to Handwriting – Préparation du Dataset IAM\n",
                "Ce notebook prépare les données du dataset **IAM Handwriting Database** pour un projet de génération d'écriture manuscrite (Text to Handwriting) avec PyTorch."
            ]
        },
        {
            "cell_type": "markdown",
            "metadata": {},
            "source": [
                "##  1. Importation des bibliothèques et vérification des dossiers"
            ]
        },
        {
            "cell_type": "code",
            "execution_count": 37,
            "metadata": {},
            "outputs": [
                {
                    "name": "stdout",
                    "output_type": "stream",
                    "text": [
                        "✅ Dossier trouvé : IAM_dataset\n",
                        "📁 Dossier des images : IAM_dataset\\lines\n"
                    ]
                }
            ],
            "source": [
                "# Importer les bibliothèques nécessaires\n",
                "import os\n",
                "import pandas as pd\n",
                "import cv2\n",
                "import numpy as np\n",
                "from sklearn.model_selection import train_test_split\n",
                "\n",
                "# Définir le chemin du dossier IAM\n",
                "data_dir = \"IAM_dataset\"\n",
                "lines_file = os.path.join(data_dir, \"ascii\", \"lines.txt\")\n",
                "lines_img_dir = os.path.join(data_dir, \"lines\")  # Dossier des images\n",
                "\n",
                "# Vérifier si les dossiers existent\n",
                "if not os.path.exists(data_dir):\n",
                "    print(\"❌ Erreur : Le dossier IAM_dataset n'existe pas.\")\n",
                "elif not os.path.exists(lines_img_dir):\n",
                "    print(\"❌ Erreur : Le dossier lines n'existe pas dans IAM_dataset.\")\n",
                "else:\n",
                "    print(f\"✅ Dossier trouvé : {data_dir}\")\n",
                "    print(f\"📁 Dossier des images : {lines_img_dir}\")"
            ]
        },
        {
            "cell_type": "markdown",
            "metadata": {},
            "source": [
                "##  2. Lecture et parsing du fichier `lines.txt`\n",
                "On extrait le chemin d'image et le texte correspondant pour chaque ligne du dataset."
            ]
        },
        {
            "cell_type": "code",
            "execution_count": 38,
            "metadata": {},
            "outputs": [
                {
                    "name": "stdout",
                    "output_type": "stream",
                    "text": [
                        "\n",
                        "Nombre total de lignes valides : 11344\n",
                        "                                       image_path  \\\n",
                        "0  IAM_dataset\\lines\\a01\\a01-000u\\a01-000u-00.png   \n",
                        "1  IAM_dataset\\lines\\a01\\a01-000u\\a01-000u-01.png   \n",
                        "2  IAM_dataset\\lines\\a01\\a01-000u\\a01-000u-02.png   \n",
                        "3  IAM_dataset\\lines\\a01\\a01-000u\\a01-000u-04.png   \n",
                        "4  IAM_dataset\\lines\\a01\\a01-000u\\a01-000u-06.png   \n",
                        "\n",
                        "                                        text  \n",
                        "0          A MOVE to stop Mr. Gaitskell from  \n",
                        "1      nominating any more Labour life Peers  \n",
                        "2       is to be made at a meeting of Labour  \n",
                        "3       put down a resolution on the subject  \n",
                        "4  Griffiths , M P for Manchester Exchange .  \n"
                    ]
                }
            ],
            "source": [
                "# Lecture et parsing du fichier lines.txt\n",
                "lines_data = []\n",
                "\n",
                "with open(lines_file, 'r', encoding='utf-8') as f:\n",
                "    for i, line in enumerate(f):\n",
                "        if line.startswith('#') or not line.strip():\n",
                "            continue\n",
                "\n",
                "        parts = line.strip().split()\n",
                "        if len(parts) >= 9:\n",
                "            img_id = parts[0]\n",
                "            status = parts[1]\n",
                "\n",
                "            if status == 'ok':\n",
                "                text = ' '.join(parts[8:]).replace('|', ' ')\n",
                "                img_base = img_id.split('-')[0]\n",
                "                sub_dir = '-'.join(img_id.split('-')[:2])\n",
                "                img_name = f\"{img_id}.png\"\n",
                "                img_path = os.path.join(lines_img_dir, img_base, sub_dir, img_name)\n",
                "\n",
                "                if os.path.exists(img_path):\n",
                "                    lines_data.append((img_path, text))\n",
                "                else:\n",
                "                    print(f\"⚠️ Image non trouvée : {img_path}\")\n",
                "\n",
                "df_lines = pd.DataFrame(lines_data, columns=['image_path', 'text'])\n",
                "print(f\"\\nNombre total de lignes valides : {len(df_lines)}\")\n",
                "print(df_lines.head())"
            ]
        },
        {
            "cell_type": "markdown",
            "metadata": {},
            "source": [
                "##  3. Préparation du Dataset PyTorch"
            ]
        },
        {
            "cell_type": "code",
            "execution_count": 39,
            "metadata": {},
            "outputs": [
                {
                    "name": "stdout",
                    "output_type": "stream",
                    "text": [
                        "Batch images shape : torch.Size([32, 1, 32, 128])\n",
                        "Exemple de texte : palms of his hands .\n"
                    ]
                }
            ],
            "source": [
                "from PIL import Image\n",
                "from torchvision import transforms\n",
                "from torch.utils.data import Dataset, DataLoader\n",
                "\n",
                "# Définir les transformations (ex : 128x32, niveaux de gris)\n",
                "transform = transforms.Compose([\n",
                "    transforms.Grayscale(num_output_channels=1),\n",
                "    transforms.Resize((32, 128)),\n",
                "    transforms.ToTensor(),\n",
                "    transforms.Normalize((0.5,), (0.5,))\n",
                "])\n",
                "\n",
                "# Définir un Dataset personnalisé\n",
                "class HandwrittenDataset(Dataset):\n",
                "    def __init__(self, dataframe, transform=None):\n",
                "        self.dataframe = dataframe\n",
                "        self.transform = transform\n",
                "\n",
                "    def __len__(self):\n",
                "        return len(self.dataframe)\n",
                "\n",
                "    def __getitem__(self, idx):\n",
                "        img_path = self.dataframe.iloc[idx]['image_path']\n",
                "        text = self.dataframe.iloc[idx]['text']\n",
                "        image = Image.open(img_path).convert('L')\n",
                "\n",
                "        if self.transform:\n",
                "            image = self.transform(image)\n",
                "\n",
                "        return image, text\n",
                "\n",
                "# Créer le DataLoader\n",
                "dataset = HandwrittenDataset(df_lines, transform=transform)\n",
                "dataloader = DataLoader(dataset, batch_size=32, shuffle=True)\n",
                "\n",
                "# Vérification d'un batch\n",
                "for batch_imgs, batch_texts in dataloader:\n",
                "    print(f\"Batch images shape : {batch_imgs.shape}\")\n",
                "    print(f\"Exemple de texte : {batch_texts[0]}\")\n",
                "    break"
            ]
        },
        {
            "cell_type": "markdown",
            "metadata": {},
            "source": [
                "##  4. Résumé de la préparation\n",
                "- Vérification du dossier IAM\n",
                "- Parsing de `lines.txt`\n",
                "- Association des chemins d'images et des textes\n",
                "- Préparation d’un DataLoader utilisable pour l’entraînement d’un modèle IA"
            ]
        }
    ],
    "metadata": {
        "kernelspec": {
            "display_name": "Python 3",
            "language": "python",
            "name": "python3"
        },
        "language_info": {
            "name": "python",
            "version": "3.10"
        }
    },
    "nbformat": 4,
    "nbformat_minor": 2
}
